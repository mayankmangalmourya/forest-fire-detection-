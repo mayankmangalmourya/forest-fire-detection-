{
 "cells": [
  {
   "cell_type": "markdown",
   "id": "02bfc2f1",
   "metadata": {},
   "source": [
    "# Naive Baye's Approach for Forest Fire Detection"
   ]
  },
  {
   "cell_type": "code",
   "execution_count": 1,
   "id": "e80fbd84",
   "metadata": {},
   "outputs": [],
   "source": [
    "from tqdm import tqdm\n",
    "import sklearn\n",
    "import skimage\n",
    "from skimage.transform import resize\n",
    "import random\n",
    "from sklearn.metrics import accuracy_score\n",
    "import seaborn as sns\n",
    "sns.set()\n",
    "import os\n",
    "import numpy as np\n",
    "import cv2"
   ]
  },
  {
   "cell_type": "code",
   "execution_count": 2,
   "id": "6c298d7c",
   "metadata": {},
   "outputs": [],
   "source": [
    "# resize all image as a part of data pre-processing.\n",
    "Train = \"C:/Users/lenovo/OneDrive/Desktop/Forest_Fire_Detection/forest_fire/Training and Validation\"\n",
    "Test = \"C:/Users/lenovo/OneDrive/Desktop/Forest_Fire_Detection/forest_fire/Testing\""
   ]
  },
  {
   "cell_type": "code",
   "execution_count": 3,
   "id": "f5462a7a",
   "metadata": {},
   "outputs": [
    {
     "name": "stderr",
     "output_type": "stream",
     "text": [
      "100%|████████████████████████████████████████████████████████████████████████████████| 928/928 [00:26<00:00, 34.48it/s]\n",
      "100%|████████████████████████████████████████████████████████████████████████████████| 904/904 [00:25<00:00, 35.45it/s]\n",
      "100%|██████████████████████████████████████████████████████████████████████████████████| 22/22 [00:00<00:00, 32.58it/s]\n",
      "100%|██████████████████████████████████████████████████████████████████████████████████| 46/46 [00:01<00:00, 32.85it/s]\n"
     ]
    }
   ],
   "source": [
    "LOAD_FROM_IMAGES = True\n",
    "def get_data(folder):\n",
    "    x = []\n",
    "    y = []\n",
    "    for folderName in os.listdir(folder):\n",
    "        if not folderName.startswith(\".\"):\n",
    "            if folderName in [\"nofire\"]:\n",
    "                label = 0\n",
    "            elif folderName in [\"fire\"]:\n",
    "                label = 1\n",
    "            else:\n",
    "                label = 2\n",
    "            for image_filename in tqdm(os.listdir(folder +\"/\" +folderName+\"/\")):\n",
    "                img_file = cv2.imread(folder + \"/\" +folderName + \"/\" + image_filename)\n",
    "                if img_file is not None:\n",
    "                    img_file = skimage.transform.resize(img_file,(227,227,3), mode = \"constant\",anti_aliasing=True)\n",
    "                    img_arr = np.asarray(img_file)\n",
    "                    x.append(img_arr)\n",
    "                    y.append(label)\n",
    "    x = np.asarray(x)\n",
    "    y = np.asarray(y)\n",
    "    return x,y\n",
    "\n",
    "if LOAD_FROM_IMAGES:\n",
    "    X_train,y_train = get_data(Train)\n",
    "    X_test, y_test = get_data(Test)\n",
    "    \n",
    "    np.save(\"xtrain.npy\",X_train)\n",
    "    np.save(\"ytrain.npy\",y_train)\n",
    "    np.save(\"xtest.npy\",X_test)\n",
    "    np.save(\"ytest.npy\",y_test)\n",
    "else:\n",
    "    X_train = np.load(\"xtrain.npy\")\n",
    "    y_train = np.load(\"ytrain.npy\")\n",
    "    X_test = np.load(\"xtest.npy\")\n",
    "    y_test = np.load(\"ytest.npy\")\n",
    "\n",
    "from sklearn.model_selection import train_test_split\n",
    "\n",
    "# Split the data\n",
    "X_train, X_valid, y_train, y_valid = train_test_split(X_train,y_train,test_size=0.2,shuffle=True)\n",
    "\n",
    "# Image Normalization\n",
    "X_train, X_valid, X_test = X_train / 255.0, X_valid / 255.0, X_test / 255.0"
   ]
  },
  {
   "cell_type": "code",
   "execution_count": 8,
   "id": "cbd8592e",
   "metadata": {},
   "outputs": [
    {
     "ename": "ValueError",
     "evalue": "not enough values to unpack (expected 4, got 2)",
     "output_type": "error",
     "traceback": [
      "\u001b[1;31m---------------------------------------------------------------------------\u001b[0m",
      "\u001b[1;31mValueError\u001b[0m                                Traceback (most recent call last)",
      "\u001b[1;32m~\\AppData\\Local\\Temp\\ipykernel_10700\\2622950752.py\u001b[0m in \u001b[0;36m<module>\u001b[1;34m\u001b[0m\n\u001b[1;32m----> 1\u001b[1;33m \u001b[0ma\u001b[0m\u001b[1;33m,\u001b[0m\u001b[0mb\u001b[0m\u001b[1;33m,\u001b[0m\u001b[0mc\u001b[0m\u001b[1;33m,\u001b[0m\u001b[0md\u001b[0m \u001b[1;33m=\u001b[0m \u001b[0mX_train\u001b[0m\u001b[1;33m.\u001b[0m\u001b[0mshape\u001b[0m\u001b[1;33m\u001b[0m\u001b[1;33m\u001b[0m\u001b[0m\n\u001b[0m",
      "\u001b[1;31mValueError\u001b[0m: not enough values to unpack (expected 4, got 2)"
     ]
    }
   ],
   "source": [
    "a,b,c,d = X_train.shape"
   ]
  },
  {
   "cell_type": "code",
   "execution_count": 9,
   "id": "319043d2",
   "metadata": {},
   "outputs": [],
   "source": [
    "A,B,C,D = X_test.shape"
   ]
  },
  {
   "cell_type": "code",
   "execution_count": 10,
   "id": "e09bf3c7",
   "metadata": {},
   "outputs": [],
   "source": [
    "X_train = X_train.reshape(-1, b*c*d)\n",
    "X_test = X_test.reshape(-1, B*C*D)"
   ]
  },
  {
   "cell_type": "code",
   "execution_count": 11,
   "id": "d056ace9",
   "metadata": {},
   "outputs": [
    {
     "data": {
      "text/plain": [
       "GaussianNB()"
      ]
     },
     "execution_count": 11,
     "metadata": {},
     "output_type": "execute_result"
    }
   ],
   "source": [
    "from sklearn.naive_bayes import GaussianNB\n",
    "nvclassifier = GaussianNB()\n",
    "nvclassifier.fit(X_train, y_train)"
   ]
  },
  {
   "cell_type": "code",
   "execution_count": 12,
   "id": "7b511b84",
   "metadata": {},
   "outputs": [
    {
     "data": {
      "text/plain": [
       "0.8088235294117647"
      ]
     },
     "execution_count": 12,
     "metadata": {},
     "output_type": "execute_result"
    }
   ],
   "source": [
    "nvclassifier.score(X_test, y_test)"
   ]
  },
  {
   "cell_type": "code",
   "execution_count": 13,
   "id": "abcec7fc",
   "metadata": {},
   "outputs": [],
   "source": [
    "#Predicting the test set result  \n",
    "y_pred= nvclassifier.predict(X_test)  "
   ]
  },
  {
   "cell_type": "code",
   "execution_count": 14,
   "id": "de124666",
   "metadata": {},
   "outputs": [
    {
     "data": {
      "text/plain": [
       "array([0, 1, 0, 1, 0, 0, 0, 1, 1, 1, 1, 0, 1, 1, 1, 0, 1, 1, 1, 0, 1, 1,\n",
       "       0, 1, 0, 0, 1, 0, 0, 0, 0, 1, 0, 0, 0, 0, 0, 0, 0, 0, 0, 0, 1, 0,\n",
       "       0, 0, 0, 0, 0, 0, 0, 0, 0, 0, 1, 0, 0, 0, 0, 0, 0, 0, 0, 0, 0, 0,\n",
       "       0, 0])"
      ]
     },
     "execution_count": 14,
     "metadata": {},
     "output_type": "execute_result"
    }
   ],
   "source": [
    "y_pred"
   ]
  },
  {
   "cell_type": "code",
   "execution_count": 15,
   "id": "4037b3f8",
   "metadata": {},
   "outputs": [
    {
     "data": {
      "text/plain": [
       "array([[41,  5],\n",
       "       [ 8, 14]], dtype=int64)"
      ]
     },
     "execution_count": 15,
     "metadata": {},
     "output_type": "execute_result"
    }
   ],
   "source": [
    "#Creating the Confusion matrix  \n",
    "from sklearn.metrics import confusion_matrix  \n",
    "cm= confusion_matrix(y_test, y_pred)\n",
    "cm"
   ]
  },
  {
   "cell_type": "code",
   "execution_count": null,
   "id": "9d4ea2ae",
   "metadata": {},
   "outputs": [],
   "source": []
  }
 ],
 "metadata": {
  "kernelspec": {
   "display_name": "Python 3 (ipykernel)",
   "language": "python",
   "name": "python3"
  },
  "language_info": {
   "codemirror_mode": {
    "name": "ipython",
    "version": 3
   },
   "file_extension": ".py",
   "mimetype": "text/x-python",
   "name": "python",
   "nbconvert_exporter": "python",
   "pygments_lexer": "ipython3",
   "version": "3.11.2"
  }
 },
 "nbformat": 4,
 "nbformat_minor": 5
}
